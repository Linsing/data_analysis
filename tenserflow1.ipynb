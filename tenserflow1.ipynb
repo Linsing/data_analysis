{
 "cells": [
  {
   "cell_type": "code",
   "execution_count": 3,
   "metadata": {},
   "outputs": [
    {
     "ename": "SyntaxError",
     "evalue": "unexpected character after line continuation character (<ipython-input-3-8e7bd55238bf>, line 61)",
     "output_type": "error",
     "traceback": [
      "\u001b[1;36m  File \u001b[1;32m\"<ipython-input-3-8e7bd55238bf>\"\u001b[1;36m, line \u001b[1;32m61\u001b[0m\n\u001b[1;33m    if ((c_x, c_y) == cell_obj.point) or \\\u001b[0m\n\u001b[1;37m                                            ^\u001b[0m\n\u001b[1;31mSyntaxError\u001b[0m\u001b[1;31m:\u001b[0m unexpected character after line continuation character\n"
     ]
    }
   ],
   "source": [
    "# -*- coding: utf-8 -*-  \n",
    "from time import sleep  \n",
    "from copy import deepcopy  \n",
    "  \n",
    "WORLD_HIGH = 20 #世界长度  \n",
    "WORLD_WIDE = 40 #世界宽度  \n",
    "ALIVE_CON = 3 #复活条件  \n",
    "KEEP_CON = 2  #保有条件  \n",
    "  \n",
    "class Cell(object):  \n",
    "    '''''细胞对象'''  \n",
    "    def __init__(self, pos):  \n",
    "        '''''自身坐标x,y, 已经是否还存活'''  \n",
    "        self.point, self.is_alive = pos, False  \n",
    "        self.x, self.y = self.point  \n",
    "      \n",
    "    def setAlive(self):  \n",
    "        self.is_alive = True  \n",
    "          \n",
    "    def setDied(self):  \n",
    "        self.is_alive = False  \n",
    "          \n",
    "    def display(self):  \n",
    "        if self.is_alive:  \n",
    "            return '*'  \n",
    "        return ' '  \n",
    "          \n",
    "    def displayLinux(self):  \n",
    "        '''''在linux环境下可以打印黑白块'''  \n",
    "        if self.is_alive:  \n",
    "            return '\\033[0;37;47m \\033[0m'  \n",
    "        return '\\033[0;30;40m \\033[0m'  \n",
    "          \n",
    "class GameManager(object):  \n",
    "    def __init__(self):  \n",
    "        self.world = self.initWorld()  \n",
    "        self.initAliveCell()  \n",
    "       \n",
    "    def initWorld(self):  \n",
    "        world = []  \n",
    "        for pos_x in xrange(WORLD_WIDE):  \n",
    "            column = []  \n",
    "            for pos_y in xrange(WORLD_HIGH):  \n",
    "                column.append(Cell((pos_x, pos_y)))  \n",
    "            world.append(column)  \n",
    "        return world  \n",
    "      \n",
    "    def initAliveCell(self):  \n",
    "        from random import choice  \n",
    "        for high in self.world:  \n",
    "            for cell in high:  \n",
    "                if choice((0, 1)) == 0:  \n",
    "                    continue  \n",
    "                cell.setAlive()  \n",
    "      \n",
    "    def getNeighbours(self, cell_obj):  \n",
    "        alive_count = 0  \n",
    "        for x_of in xrange(-1, 2):  \n",
    "            for y_of in xrange(-1, 2):  \n",
    "                c_x, c_y = cell_obj.x + x_of, cell_obj.y + y_of  \n",
    "                if ((c_x, c_y) == cell_obj.point) or \\  \n",
    "                   (c_x < 0 or c_x >= WORLD_WIDE) or \\  \n",
    "                   (c_y < 0 or c_y >= WORLD_HIGH):  \n",
    "#                     '''''排除自身和越界的点'''  \n",
    "                continue  \n",
    "                if self.world[c_x][c_y].is_alive:  \n",
    "                    alive_count += 1  \n",
    "        return alive_count  \n",
    "                \n",
    "    def display(self):  \n",
    "        print '='*WORLD_WIDE #等号分割线  \n",
    "        for index in xrange(WORLD_HIGH):  \n",
    "            print ''.join([high[index].displayLinux() for high in self.world])  \n",
    "        print '='*WORLD_WIDE  \n",
    "  \n",
    "    def gameStart(self):  \n",
    "        while True:  \n",
    "            self.display()  \n",
    "            new_world = deepcopy(self.world)  \n",
    "            for p_x, wide_list in enumerate(self.world):  \n",
    "                for p_y, _ in enumerate(wide_list):  \n",
    "                    current_cell = new_world[p_x][p_y]  \n",
    "                    nei_num = self.getNeighbours(current_cell)  \n",
    "                    if nei_num == ALIVE_CON:  \n",
    "                        current_cell.setAlive()  \n",
    "                    elif nei_num != KEEP_CON:  \n",
    "                        current_cell.setDied()                \n",
    "            self.world = new_world  \n",
    "            sleep(0.2)  \n",
    "  \n",
    "if __name__ == '__main__':  \n",
    "    world = GameManager()  \n",
    "    try:  \n",
    "        world.gameStart()  \n",
    "    except KeyboardInterrupt:  \n",
    "        '''''防止ctrl+c退出报错'''  \n",
    "        pass  "
   ]
  },
  {
   "cell_type": "code",
   "execution_count": 5,
   "metadata": {
    "collapsed": true
   },
   "outputs": [],
   "source": [
    "a = lambda x:x+10\n",
    "    "
   ]
  },
  {
   "cell_type": "code",
   "execution_count": 6,
   "metadata": {},
   "outputs": [
    {
     "data": {
      "text/plain": [
       "12"
      ]
     },
     "execution_count": 6,
     "metadata": {},
     "output_type": "execute_result"
    }
   ],
   "source": [
    "a(2)"
   ]
  },
  {
   "cell_type": "code",
   "execution_count": 14,
   "metadata": {
    "collapsed": true
   },
   "outputs": [],
   "source": [
    "list1 = ['zzzhangsan','lisi','andy']\n",
    "list1.sort(key = lambda x:x[2])"
   ]
  },
  {
   "cell_type": "code",
   "execution_count": 15,
   "metadata": {},
   "outputs": [
    {
     "data": {
      "text/plain": [
       "['andy', 'lisi', 'zzzhangsan']"
      ]
     },
     "execution_count": 15,
     "metadata": {},
     "output_type": "execute_result"
    }
   ],
   "source": [
    "list1"
   ]
  },
  {
   "cell_type": "code",
   "execution_count": 19,
   "metadata": {
    "collapsed": true
   },
   "outputs": [],
   "source": [
    "a = list1.sort(key = lambda x:x[len(x)-1])"
   ]
  },
  {
   "cell_type": "code",
   "execution_count": 20,
   "metadata": {
    "collapsed": true
   },
   "outputs": [],
   "source": [
    "a"
   ]
  },
  {
   "cell_type": "code",
   "execution_count": 21,
   "metadata": {},
   "outputs": [
    {
     "data": {
      "text/plain": [
       "['lisi', 'zzzhangsan', 'andy']"
      ]
     },
     "execution_count": 21,
     "metadata": {},
     "output_type": "execute_result"
    }
   ],
   "source": [
    "list1"
   ]
  },
  {
   "cell_type": "code",
   "execution_count": 27,
   "metadata": {},
   "outputs": [
    {
     "name": "stdout",
     "output_type": "stream",
     "text": [
      "a\n",
      "b\n",
      "c\n",
      "d\n",
      "e\n",
      "f\n",
      "g\n",
      "h\n",
      "i\n",
      "j\n",
      "k\n",
      "l\n",
      "m\n",
      "n\n",
      "o\n",
      "p\n",
      "q\n",
      "r\n",
      "s\n",
      "t\n",
      "u\n",
      "v\n",
      "w\n",
      "x\n",
      "y\n",
      "z\n"
     ]
    }
   ],
   "source": [
    "list2 = []\n",
    "for x in range(97,123):\n",
    "    print(chr(x))\n",
    "    list2.append(chr(x))"
   ]
  },
  {
   "cell_type": "code",
   "execution_count": 28,
   "metadata": {},
   "outputs": [
    {
     "name": "stdout",
     "output_type": "stream",
     "text": [
      "['a', 'b', 'c', 'd', 'e', 'f', 'g', 'h', 'i', 'j', 'k', 'l', 'm', 'n', 'o', 'p', 'q', 'r', 's', 't', 'u', 'v', 'w', 'x', 'y', 'z']\n"
     ]
    }
   ],
   "source": [
    "print(list2)"
   ]
  },
  {
   "cell_type": "code",
   "execution_count": 50,
   "metadata": {
    "collapsed": true
   },
   "outputs": [],
   "source": [
    "list1 = [chr(x) for x in range(122)]"
   ]
  },
  {
   "cell_type": "code",
   "execution_count": 51,
   "metadata": {},
   "outputs": [
    {
     "data": {
      "text/plain": [
       "str"
      ]
     },
     "execution_count": 51,
     "metadata": {},
     "output_type": "execute_result"
    }
   ],
   "source": [
    "type(list1[3])"
   ]
  },
  {
   "cell_type": "code",
   "execution_count": 52,
   "metadata": {},
   "outputs": [
    {
     "data": {
      "text/plain": [
       "['\\x00',\n",
       " '\\x01',\n",
       " '\\x02',\n",
       " '\\x03',\n",
       " '\\x04',\n",
       " '\\x05',\n",
       " '\\x06',\n",
       " '\\x07',\n",
       " '\\x08',\n",
       " '\\t',\n",
       " '\\n',\n",
       " '\\x0b',\n",
       " '\\x0c',\n",
       " '\\r',\n",
       " '\\x0e',\n",
       " '\\x0f',\n",
       " '\\x10',\n",
       " '\\x11',\n",
       " '\\x12',\n",
       " '\\x13',\n",
       " '\\x14',\n",
       " '\\x15',\n",
       " '\\x16',\n",
       " '\\x17',\n",
       " '\\x18',\n",
       " '\\x19',\n",
       " '\\x1a',\n",
       " '\\x1b',\n",
       " '\\x1c',\n",
       " '\\x1d',\n",
       " '\\x1e',\n",
       " '\\x1f',\n",
       " ' ',\n",
       " '!',\n",
       " '\"',\n",
       " '#',\n",
       " '$',\n",
       " '%',\n",
       " '&',\n",
       " \"'\",\n",
       " '(',\n",
       " ')',\n",
       " '*',\n",
       " '+',\n",
       " ',',\n",
       " '-',\n",
       " '.',\n",
       " '/',\n",
       " '0',\n",
       " '1',\n",
       " '2',\n",
       " '3',\n",
       " '4',\n",
       " '5',\n",
       " '6',\n",
       " '7',\n",
       " '8',\n",
       " '9',\n",
       " ':',\n",
       " ';',\n",
       " '<',\n",
       " '=',\n",
       " '>',\n",
       " '?',\n",
       " '@',\n",
       " 'A',\n",
       " 'B',\n",
       " 'C',\n",
       " 'D',\n",
       " 'E',\n",
       " 'F',\n",
       " 'G',\n",
       " 'H',\n",
       " 'I',\n",
       " 'J',\n",
       " 'K',\n",
       " 'L',\n",
       " 'M',\n",
       " 'N',\n",
       " 'O',\n",
       " 'P',\n",
       " 'Q',\n",
       " 'R',\n",
       " 'S',\n",
       " 'T',\n",
       " 'U',\n",
       " 'V',\n",
       " 'W',\n",
       " 'X',\n",
       " 'Y',\n",
       " 'Z',\n",
       " '[',\n",
       " '\\\\',\n",
       " ']',\n",
       " '^',\n",
       " '_',\n",
       " '`',\n",
       " 'a',\n",
       " 'b',\n",
       " 'c',\n",
       " 'd',\n",
       " 'e',\n",
       " 'f',\n",
       " 'g',\n",
       " 'h',\n",
       " 'i',\n",
       " 'j',\n",
       " 'k',\n",
       " 'l',\n",
       " 'm',\n",
       " 'n',\n",
       " 'o',\n",
       " 'p',\n",
       " 'q',\n",
       " 'r',\n",
       " 's',\n",
       " 't',\n",
       " 'u',\n",
       " 'v',\n",
       " 'w',\n",
       " 'x',\n",
       " 'y']"
      ]
     },
     "execution_count": 52,
     "metadata": {},
     "output_type": "execute_result"
    }
   ],
   "source": [
    "list1"
   ]
  },
  {
   "cell_type": "code",
   "execution_count": 47,
   "metadata": {},
   "outputs": [
    {
     "name": "stdout",
     "output_type": "stream",
     "text": [
      "<class 'str'>\n"
     ]
    }
   ],
   "source": [
    "print(type(chr(57)))"
   ]
  },
  {
   "cell_type": "code",
   "execution_count": 46,
   "metadata": {},
   "outputs": [
    {
     "name": "stdout",
     "output_type": "stream",
     "text": [
      "9\n"
     ]
    }
   ],
   "source": [
    "print(chr(57))"
   ]
  },
  {
   "cell_type": "code",
   "execution_count": 48,
   "metadata": {},
   "outputs": [
    {
     "name": "stdout",
     "output_type": "stream",
     "text": [
      "3\n"
     ]
    }
   ],
   "source": [
    "print(1+2)"
   ]
  },
  {
   "cell_type": "code",
   "execution_count": 49,
   "metadata": {},
   "outputs": [
    {
     "ename": "TypeError",
     "evalue": "must be str, not int",
     "output_type": "error",
     "traceback": [
      "\u001b[1;31m---------------------------------------------------------------------------\u001b[0m",
      "\u001b[1;31mTypeError\u001b[0m                                 Traceback (most recent call last)",
      "\u001b[1;32m<ipython-input-49-850c431521cd>\u001b[0m in \u001b[0;36m<module>\u001b[1;34m()\u001b[0m\n\u001b[1;32m----> 1\u001b[1;33m \u001b[0mprint\u001b[0m\u001b[1;33m(\u001b[0m\u001b[0mchr\u001b[0m\u001b[1;33m(\u001b[0m\u001b[1;36m57\u001b[0m\u001b[1;33m)\u001b[0m\u001b[1;33m+\u001b[0m\u001b[1;36m2\u001b[0m\u001b[1;33m)\u001b[0m\u001b[1;33m\u001b[0m\u001b[0m\n\u001b[0m",
      "\u001b[1;31mTypeError\u001b[0m: must be str, not int"
     ]
    }
   ],
   "source": [
    "print(chr(57)+2)"
   ]
  },
  {
   "cell_type": "code",
   "execution_count": 1,
   "metadata": {},
   "outputs": [
    {
     "name": "stdout",
     "output_type": "stream",
     "text": [
      "utf-8\n"
     ]
    }
   ],
   "source": [
    "import sys\n",
    "ss = sys.getdefaultencoding()\n",
    "print(ss)"
   ]
  },
  {
   "cell_type": "code",
   "execution_count": null,
   "metadata": {
    "collapsed": true
   },
   "outputs": [],
   "source": []
  }
 ],
 "metadata": {
  "kernelspec": {
   "display_name": "Python 3",
   "language": "python",
   "name": "python3"
  },
  "language_info": {
   "codemirror_mode": {
    "name": "ipython",
    "version": 3
   },
   "file_extension": ".py",
   "mimetype": "text/x-python",
   "name": "python",
   "nbconvert_exporter": "python",
   "pygments_lexer": "ipython3",
   "version": "3.6.3"
  }
 },
 "nbformat": 4,
 "nbformat_minor": 2
}
