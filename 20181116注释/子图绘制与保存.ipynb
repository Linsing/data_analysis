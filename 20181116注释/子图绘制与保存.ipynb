{
 "cells": [
  {
   "cell_type": "markdown",
   "metadata": {},
   "source": [
    "# 子图"
   ]
  },
  {
   "cell_type": "code",
   "execution_count": 1,
   "metadata": {},
   "outputs": [],
   "source": [
    "import numpy as np\n",
    "import pandas as pd\n",
    "import matplotlib.pyplot as plt"
   ]
  },
  {
   "cell_type": "code",
   "execution_count": 19,
   "metadata": {},
   "outputs": [
    {
     "data": {
      "image/png": "[encoded data removed]",
      "text/plain": [
       "<matplotlib.figure.Figure at 0xb1907f0>"
      ]
     },
     "metadata": {},
     "output_type": "display_data"
    }
   ],
   "source": [
    "fig = plt.figure()\n",
    "ax = fig.add_subplot(3,3,1) # fig.add_subplot(331) 九张图以下可以这样写\n",
    "\n",
    "x = [1,2,3,4]\n",
    "y = [6,4,3,2]\n",
    "plt.plot(x,y)\n",
    "\n",
    "ax = fig.add_subplot(312)  # 如果我只想占第3,4个格子,how to do?\n",
    "x = [1,3,5,4]\n",
    "y = [6,4,3,2]\n",
    "plt.plot(x,y)\n",
    "\n",
    "ax = fig.add_subplot(339)\n",
    "x = [1,3,5,4]\n",
    "y = [6,4,3,2]\n",
    "plt.scatter(x,y)\n",
    "\n",
    "#plt.savefig('my_pic.png')\n",
    "plt.savefig('my_pic.jpg')"
   ]
  },
  {
   "cell_type": "code",
   "execution_count": 17,
   "metadata": {},
   "outputs": [],
   "source": [
    "#help(fig.add_subplot)"
   ]
  },
  {
   "cell_type": "code",
   "execution_count": 16,
   "metadata": {},
   "outputs": [],
   "source": [
    "#help(plt.figure())"
   ]
  },
  {
   "cell_type": "code",
   "execution_count": null,
   "metadata": {},
   "outputs": [],
   "source": []
  }
 ],
 "metadata": {
  "kernelspec": {
   "display_name": "Python 3",
   "language": "python",
   "name": "python3"
  },
  "language_info": {
   "codemirror_mode": {
    "name": "ipython",
    "version": 3
   },
   "file_extension": ".py",
   "mimetype": "text/x-python",
   "name": "python",
   "nbconvert_exporter": "python",
   "pygments_lexer": "ipython3",
   "version": "3.6.4"
  }
 },
 "nbformat": 4,
 "nbformat_minor": 2
}
