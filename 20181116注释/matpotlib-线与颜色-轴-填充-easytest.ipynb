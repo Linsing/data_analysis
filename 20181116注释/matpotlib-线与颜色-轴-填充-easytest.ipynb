{
 "cells": [
  {
   "cell_type": "code",
   "execution_count": 1,
   "metadata": {},
   "outputs": [],
   "source": [
    "import numpy as np\n",
    "import pandas as pd\n",
    "import matplotlib.pyplot as plt"
   ]
  },
  {
   "cell_type": "markdown",
   "metadata": {},
   "source": [
    "# 绘制line"
   ]
  },
  {
   "cell_type": "code",
   "execution_count": 30,
   "metadata": {},
   "outputs": [
    {
     "data": {
      "image/png": "[encoded data removed]",
      "text/plain": [
       "<matplotlib.figure.Figure at 0x9adf9b0>"
      ]
     },
     "metadata": {},
     "output_type": "display_data"
    }
   ],
   "source": [
    "x=[0,2,4,5]\n",
    "y=[0,3,4,2]\n",
    "\n",
    "plt.plot(x,y,'y',linewidth=3,linestyle='-') #\n",
    "#plt.scatter(x,y,linewidth=3,linestyle='-') #\n",
    "# plt.annotate(\"(4,4)\",xy=(4,4),xycoords='data',xytext=(+10,+30),textcoords='offset points',\n",
    "#             arrowprops=dict(arrowstyle='<|-|>',connectionstyle='arc3,rad=.2'))\n",
    "\n",
    "plt.annotate(\"(4,4)\",xy=(4,4),xycoords='data',xytext=(+10,+30),textcoords='offset points',\n",
    "            arrowprops = dict(arrowstyle='<|-|>'))\n",
    "# xytext 默认标记的坐标的绝对位置,没有的话用xy参数的\n",
    "# textcoords 指定相对位置,相对点 和相对像素\n",
    "# 箭头arrowprops  箭头风格connectionstyle\n",
    "plt.show()"
   ]
  },
  {
   "cell_type": "code",
   "execution_count": 3,
   "metadata": {},
   "outputs": [],
   "source": [
    "#help(plt.fill_between)"
   ]
  },
  {
   "cell_type": "code",
   "execution_count": 4,
   "metadata": {},
   "outputs": [
    {
     "name": "stdout",
     "output_type": "stream",
     "text": [
      "Help on function annotate in module matplotlib.pyplot:\n",
      "\n",
      "annotate(*args, **kwargs)\n",
      "    Annotate the point ``xy`` with text ``s``.\n",
      "    \n",
      "    Additional kwargs are passed to `~matplotlib.text.Text`.\n",
      "    \n",
      "    Parameters\n",
      "    ----------\n",
      "    \n",
      "    s : str\n",
      "        The text of the annotation\n",
      "    \n",
      "    xy : iterable\n",
      "        Length 2 sequence specifying the *(x,y)* point to annotate\n",
      "    \n",
      "    xytext : iterable, optional\n",
      "        Length 2 sequence specifying the *(x,y)* to place the text\n",
      "        at.  If None, defaults to ``xy``.\n",
      "    \n",
      "    xycoords : str, Artist, Transform, callable or tuple, optional\n",
      "    \n",
      "        The coordinate system that ``xy`` is given in.\n",
      "    \n",
      "        For a `str` the allowed values are:\n",
      "    \n",
      "        =================   ===============================================\n",
      "        Property            Description\n",
      "        =================   ===============================================\n",
      "        'figure points'     points from the lower left of the figure\n",
      "        'figure pixels'     pixels from the lower left of the figure\n",
      "        'figure fraction'   fraction of figure from lower left\n",
      "        'axes points'       points from lower left corner of axes\n",
      "        'axes pixels'       pixels from lower left corner of axes\n",
      "        'axes fraction'     fraction of axes from lower left\n",
      "        'data'              use the coordinate system of the object being\n",
      "                            annotated (default)\n",
      "        'polar'             *(theta,r)* if not native 'data' coordinates\n",
      "        =================   ===============================================\n",
      "    \n",
      "        If a `~matplotlib.artist.Artist` object is passed in the units are\n",
      "        fraction if it's bounding box.\n",
      "    \n",
      "        If a `~matplotlib.transforms.Transform` object is passed\n",
      "        in use that to transform ``xy`` to screen coordinates\n",
      "    \n",
      "        If a callable it must take a\n",
      "        `~matplotlib.backend_bases.RendererBase` object as input\n",
      "        and return a `~matplotlib.transforms.Transform` or\n",
      "        `~matplotlib.transforms.Bbox` object\n",
      "    \n",
      "        If a `tuple` must be length 2 tuple of str, `Artist`,\n",
      "        `Transform` or callable objects.  The first transform is\n",
      "        used for the *x* coordinate and the second for *y*.\n",
      "    \n",
      "        See :ref:`plotting-guide-annotation` for more details.\n",
      "    \n",
      "        Defaults to ``'data'``\n",
      "    \n",
      "    textcoords : str, `Artist`, `Transform`, callable or tuple, optional\n",
      "        The coordinate system that ``xytext`` is given, which\n",
      "        may be different than the coordinate system used for\n",
      "        ``xy``.\n",
      "    \n",
      "        All ``xycoords`` values are valid as well as the following\n",
      "        strings:\n",
      "    \n",
      "        =================   =========================================\n",
      "        Property            Description\n",
      "        =================   =========================================\n",
      "        'offset points'     offset (in points) from the *xy* value\n",
      "        'offset pixels'     offset (in pixels) from the *xy* value\n",
      "        =================   =========================================\n",
      "    \n",
      "        defaults to the input of ``xycoords``\n",
      "    \n",
      "    arrowprops : dict, optional\n",
      "        If not None, properties used to draw a\n",
      "        `~matplotlib.patches.FancyArrowPatch` arrow between ``xy`` and\n",
      "        ``xytext``.\n",
      "    \n",
      "        If `arrowprops` does not contain the key ``'arrowstyle'`` the\n",
      "        allowed keys are:\n",
      "    \n",
      "        ==========   ======================================================\n",
      "        Key          Description\n",
      "        ==========   ======================================================\n",
      "        width        the width of the arrow in points\n",
      "        headwidth    the width of the base of the arrow head in points\n",
      "        headlength   the length of the arrow head in points\n",
      "        shrink       fraction of total length to 'shrink' from both ends\n",
      "        ?            any key to :class:`matplotlib.patches.FancyArrowPatch`\n",
      "        ==========   ======================================================\n",
      "    \n",
      "        If the `arrowprops` contains the key ``'arrowstyle'`` the\n",
      "        above keys are forbidden.  The allowed values of\n",
      "        ``'arrowstyle'`` are:\n",
      "    \n",
      "        ============   =============================================\n",
      "        Name           Attrs\n",
      "        ============   =============================================\n",
      "        ``'-'``        None\n",
      "        ``'->'``       head_length=0.4,head_width=0.2\n",
      "        ``'-['``       widthB=1.0,lengthB=0.2,angleB=None\n",
      "        ``'|-|'``      widthA=1.0,widthB=1.0\n",
      "        ``'-|>'``      head_length=0.4,head_width=0.2\n",
      "        ``'<-'``       head_length=0.4,head_width=0.2\n",
      "        ``'<->'``      head_length=0.4,head_width=0.2\n",
      "        ``'<|-'``      head_length=0.4,head_width=0.2\n",
      "        ``'<|-|>'``    head_length=0.4,head_width=0.2\n",
      "        ``'fancy'``    head_length=0.4,head_width=0.4,tail_width=0.4\n",
      "        ``'simple'``   head_length=0.5,head_width=0.5,tail_width=0.2\n",
      "        ``'wedge'``    tail_width=0.3,shrink_factor=0.5\n",
      "        ============   =============================================\n",
      "    \n",
      "        Valid keys for `~matplotlib.patches.FancyArrowPatch` are:\n",
      "    \n",
      "        ===============  ==================================================\n",
      "        Key              Description\n",
      "        ===============  ==================================================\n",
      "        arrowstyle       the arrow style\n",
      "        connectionstyle  the connection style\n",
      "        relpos           default is (0.5, 0.5)\n",
      "        patchA           default is bounding box of the text\n",
      "        patchB           default is None\n",
      "        shrinkA          default is 2 points\n",
      "        shrinkB          default is 2 points\n",
      "        mutation_scale   default is text size (in points)\n",
      "        mutation_aspect  default is 1.\n",
      "        ?                any key for :class:`matplotlib.patches.PathPatch`\n",
      "        ===============  ==================================================\n",
      "    \n",
      "        Defaults to None\n",
      "    \n",
      "    annotation_clip : bool, optional\n",
      "        Controls the visibility of the annotation when it goes\n",
      "        outside the axes area.\n",
      "    \n",
      "        If `True`, the annotation will only be drawn when the\n",
      "        ``xy`` is inside the axes. If `False`, the annotation will\n",
      "        always be drawn regardless of its position.\n",
      "    \n",
      "        The default is `None`, which behave as `True` only if\n",
      "        *xycoords* is \"data\".\n",
      "    \n",
      "    Returns\n",
      "    -------\n",
      "    Annotation\n",
      "\n"
     ]
    }
   ],
   "source": [
    "help(plt.annotate)"
   ]
  },
  {
   "cell_type": "code",
   "execution_count": null,
   "metadata": {},
   "outputs": [],
   "source": []
  },
  {
   "cell_type": "code",
   "execution_count": null,
   "metadata": {},
   "outputs": [],
   "source": []
  },
  {
   "cell_type": "code",
   "execution_count": null,
   "metadata": {},
   "outputs": [],
   "source": []
  },
  {
   "cell_type": "code",
   "execution_count": null,
   "metadata": {},
   "outputs": [],
   "source": []
  },
  {
   "cell_type": "code",
   "execution_count": null,
   "metadata": {},
   "outputs": [],
   "source": []
  },
  {
   "cell_type": "code",
   "execution_count": null,
   "metadata": {},
   "outputs": [],
   "source": []
  }
 ],
 "metadata": {
  "kernelspec": {
   "display_name": "Python 3",
   "language": "python",
   "name": "python3"
  },
  "language_info": {
   "codemirror_mode": {
    "name": "ipython",
    "version": 3
   },
   "file_extension": ".py",
   "mimetype": "text/x-python",
   "name": "python",
   "nbconvert_exporter": "python",
   "pygments_lexer": "ipython3",
   "version": "3.6.4"
  }
 },
 "nbformat": 4,
 "nbformat_minor": 2
}
